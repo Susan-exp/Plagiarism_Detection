{
 "cells": [
  {
   "cell_type": "markdown",
   "metadata": {},
   "source": [
    "# Plagiarism Detection Model\n",
    "\n",
    "Now that you've created training and test data, you are ready to define and train a model. Your goal in this notebook, will be to train a binary classification model that learns to label an answer file as either plagiarized or not, based on the features you provide the model.\n",
    "\n",
    "This task will be broken down into a few discrete steps:\n",
    "\n",
    "* Upload your data to S3.\n",
    "* Define a binary classification model and a training script.\n",
    "* Train your model and deploy it.\n",
    "* Evaluate your deployed classifier and answer some questions about your approach.\n",
    "\n",
    "To complete this notebook, you'll have to complete all given exercises and answer all the questions in this notebook.\n",
    "> All your tasks will be clearly labeled **EXERCISE** and questions as **QUESTION**.\n",
    "\n",
    "It will be up to you to explore different classification models and decide on a model that gives you the best performance for this dataset.\n",
    "\n",
    "---"
   ]
  },
  {
   "cell_type": "markdown",
   "metadata": {},
   "source": [
    "## Load Data to S3\n",
    "\n",
    "In the last notebook, you should have created two files: a `training.csv` and `test.csv` file with the features and class labels for the given corpus of plagiarized/non-plagiarized text data. \n",
    "\n",
    ">The below cells load in some AWS SageMaker libraries and creates a default bucket. After creating this bucket, you can upload your locally stored data to S3.\n",
    "\n",
    "Save your train and test `.csv` feature files, locally. To do this you can run the second notebook \"2_Plagiarism_Feature_Engineering\" in SageMaker or you can manually upload your files to this notebook using the upload icon in Jupyter Lab. Then you can upload local files to S3 by using `sagemaker_session.upload_data` and pointing directly to where the training data is saved."
   ]
  },
  {
   "cell_type": "code",
   "execution_count": 1,
   "metadata": {},
   "outputs": [],
   "source": [
    "import pandas as pd\n",
    "import boto3\n",
    "import sagemaker"
   ]
  },
  {
   "cell_type": "code",
   "execution_count": 2,
   "metadata": {},
   "outputs": [],
   "source": [
    "\"\"\"\n",
    "DON'T MODIFY ANYTHING IN THIS CELL THAT IS BELOW THIS LINE\n",
    "\"\"\"\n",
    "# session and role\n",
    "sagemaker_session = sagemaker.Session()\n",
    "role = sagemaker.get_execution_role()\n",
    "\n",
    "# create an S3 bucket\n",
    "bucket = sagemaker_session.default_bucket()"
   ]
  },
  {
   "cell_type": "markdown",
   "metadata": {},
   "source": [
    "## EXERCISE: Upload your training data to S3\n",
    "\n",
    "Specify the `data_dir` where you've saved your `train.csv` file. Decide on a descriptive `prefix` that defines where your data will be uploaded in the default S3 bucket. Finally, create a pointer to your training data by calling `sagemaker_session.upload_data` and passing in the required parameters. It may help to look at the [Session documentation](https://sagemaker.readthedocs.io/en/stable/session.html#sagemaker.session.Session.upload_data) or previous SageMaker code examples.\n",
    "\n",
    "You are expected to upload your entire directory. Later, the training script will only access the `train.csv` file."
   ]
  },
  {
   "cell_type": "code",
   "execution_count": 39,
   "metadata": {},
   "outputs": [],
   "source": [
    "# should be the name of directory you created to save your features data\n",
    "data_dir = 'plagiarism_data'\n",
    "\n",
    "\n",
    "# set prefix, a descriptive name for a directory  \n",
    "prefix = 'data-plagiarism'\n",
    "\n",
    "# upload all data to S3\n",
    "input_data = sagemaker_session.upload_data(path=data_dir,bucket=bucket,key_prefix=prefix)"
   ]
  },
  {
   "cell_type": "markdown",
   "metadata": {},
   "source": [
    "### Test cell\n",
    "\n",
    "Test that your data has been successfully uploaded. The below cell prints out the items in your S3 bucket and will throw an error if it is empty. You should see the contents of your `data_dir` and perhaps some checkpoints. If you see any other files listed, then you may have some old model files that you can delete via the S3 console (though, additional files shouldn't affect the performance of model developed in this notebook)."
   ]
  },
  {
   "cell_type": "code",
   "execution_count": 40,
   "metadata": {},
   "outputs": [
    {
     "name": "stdout",
     "output_type": "stream",
     "text": [
      "data-plagiarism/sagemaker-pytorch-2020-02-03-13-29-49-121/debug-output/training_job_end.ts\n",
      "data-plagiarism/sagemaker-pytorch-2020-02-03-13-53-09-652/debug-output/training_job_end.ts\n",
      "data-plagiarism/sagemaker-pytorch-2020-02-03-14-03-27-037/debug-output/training_job_end.ts\n",
      "data-plagiarism/sagemaker-pytorch-2020-02-03-14-15-24-494/debug-output/training_job_end.ts\n",
      "data-plagiarism/sagemaker-pytorch-2020-02-03-14-32-38-959/debug-output/training_job_end.ts\n",
      "data-plagiarism/sagemaker-pytorch-2020-02-04-10-36-25-786/debug-output/training_job_end.ts\n",
      "data-plagiarism/sagemaker-pytorch-2020-02-04-10-46-56-442/debug-output/training_job_end.ts\n",
      "data-plagiarism/sagemaker-pytorch-2020-02-04-11-00-41-273/debug-output/training_job_end.ts\n",
      "data-plagiarism/sagemaker-pytorch-2020-02-04-11-10-05-418/debug-output/training_job_end.ts\n",
      "data-plagiarism/sagemaker-pytorch-2020-02-04-11-16-21-085/debug-output/training_job_end.ts\n",
      "data-plagiarism/sagemaker-pytorch-2020-02-04-11-22-32-658/debug-output/training_job_end.ts\n",
      "data-plagiarism/sagemaker-pytorch-2020-02-04-11-22-32-658/output/model.tar.gz\n",
      "data-plagiarism/sagemaker-pytorch-2020-02-04-11-26-17-533/debug-output/training_job_end.ts\n",
      "data-plagiarism/sagemaker-pytorch-2020-02-04-11-31-29-745/debug-output/training_job_end.ts\n",
      "data-plagiarism/sagemaker-pytorch-2020-02-04-11-31-29-745/output/model.tar.gz\n",
      "data-plagiarism/test.csv\n",
      "data-plagiarism/train.csv\n",
      "sagemaker-pytorch-2020-02-03-13-29-49-121/source/sourcedir.tar.gz\n",
      "sagemaker-pytorch-2020-02-03-13-53-09-652/source/sourcedir.tar.gz\n",
      "sagemaker-pytorch-2020-02-03-14-03-27-037/source/sourcedir.tar.gz\n",
      "sagemaker-pytorch-2020-02-03-14-15-24-494/source/sourcedir.tar.gz\n",
      "sagemaker-pytorch-2020-02-03-14-32-38-959/source/sourcedir.tar.gz\n",
      "sagemaker-pytorch-2020-02-04-10-36-25-786/source/sourcedir.tar.gz\n",
      "sagemaker-pytorch-2020-02-04-10-46-56-442/source/sourcedir.tar.gz\n",
      "sagemaker-pytorch-2020-02-04-11-00-41-273/source/sourcedir.tar.gz\n",
      "sagemaker-pytorch-2020-02-04-11-10-05-418/source/sourcedir.tar.gz\n",
      "sagemaker-pytorch-2020-02-04-11-16-21-085/source/sourcedir.tar.gz\n",
      "sagemaker-pytorch-2020-02-04-11-22-32-658/source/sourcedir.tar.gz\n",
      "sagemaker-pytorch-2020-02-04-11-26-17-533/source/sourcedir.tar.gz\n",
      "sagemaker-pytorch-2020-02-04-11-31-29-745/source/sourcedir.tar.gz\n",
      "sagemaker-pytorch-2020-02-04-11-43-24-671/sourcedir.tar.gz\n",
      "Test passed!\n"
     ]
    }
   ],
   "source": [
    "\"\"\"\n",
    "DON'T MODIFY ANYTHING IN THIS CELL THAT IS BELOW THIS LINE\n",
    "\"\"\"\n",
    "# confirm that data is in S3 bucket\n",
    "empty_check = []\n",
    "for obj in boto3.resource('s3').Bucket(bucket).objects.all():\n",
    "    empty_check.append(obj.key)\n",
    "    print(obj.key)\n",
    "\n",
    "assert len(empty_check) !=0, 'S3 bucket is empty.'\n",
    "print('Test passed!')"
   ]
  },
  {
   "cell_type": "markdown",
   "metadata": {},
   "source": [
    "---\n",
    "\n",
    "# Modeling\n",
    "\n",
    "Now that you've uploaded your training data, it's time to define and train a model!\n",
    "\n",
    "The type of model you create is up to you. For a binary classification task, you can choose to go one of three routes:\n",
    "* Use a built-in classification algorithm, like LinearLearner.\n",
    "* Define a custom Scikit-learn classifier, a comparison of models can be found [here](https://scikit-learn.org/stable/auto_examples/classification/plot_classifier_comparison.html).\n",
    "* Define a custom PyTorch neural network classifier. \n",
    "\n",
    "It will be up to you to test out a variety of models and choose the best one. Your project will be graded on the accuracy of your final model. \n",
    " \n",
    "---\n",
    "\n",
    "## EXERCISE: Complete a training script \n",
    "\n",
    "To implement a custom classifier, you'll need to complete a `train.py` script. You've been given the folders `source_sklearn` and `source_pytorch` which hold starting code for a custom Scikit-learn model and a PyTorch model, respectively. Each directory has a `train.py` training script. To complete this project **you only need to complete one of these scripts**; the script that is responsible for training your final model.\n",
    "\n",
    "A typical training script:\n",
    "* Loads training data from a specified directory\n",
    "* Parses any training & model hyperparameters (ex. nodes in a neural network, training epochs, etc.)\n",
    "* Instantiates a model of your design, with any specified hyperparams\n",
    "* Trains that model \n",
    "* Finally, saves the model so that it can be hosted/deployed, later\n",
    "\n",
    "### Defining and training a model\n",
    "Much of the training script code is provided for you. Almost all of your work will be done in the `if __name__ == '__main__':` section. To complete a `train.py` file, you will:\n",
    "1. Import any extra libraries you need\n",
    "2. Define any additional model training hyperparameters using `parser.add_argument`\n",
    "2. Define a model in the `if __name__ == '__main__':` section\n",
    "3. Train the model in that same section\n",
    "\n",
    "Below, you can use `!pygmentize` to display an existing `train.py` file. Read through the code; all of your tasks are marked with `TODO` comments. \n",
    "\n",
    "**Note: If you choose to create a custom PyTorch model, you will be responsible for defining the model in the `model.py` file,** and a `predict.py` file is provided. If you choose to use Scikit-learn, you only need a `train.py` file; you may import a classifier from the `sklearn` library."
   ]
  },
  {
   "cell_type": "code",
   "execution_count": null,
   "metadata": {
    "collapsed": true
   },
   "outputs": [],
   "source": [
    "# directory can be changed to: source_sklearn or source_pytorch\n",
    "!pygmentize source_sklearn/train.py"
   ]
  },
  {
   "cell_type": "markdown",
   "metadata": {},
   "source": [
    "### Provided code\n",
    "\n",
    "If you read the code above, you can see that the starter code includes a few things:\n",
    "* Model loading (`model_fn`) and saving code\n",
    "* Getting SageMaker's default hyperparameters\n",
    "* Loading the training data by name, `train.csv` and extracting the features and labels, `train_x`, and `train_y`\n",
    "\n",
    "If you'd like to read more about model saving with [joblib for sklearn](https://scikit-learn.org/stable/modules/model_persistence.html) or with [torch.save](https://pytorch.org/tutorials/beginner/saving_loading_models.html), click on the provided links."
   ]
  },
  {
   "cell_type": "markdown",
   "metadata": {},
   "source": [
    "---\n",
    "# Create an Estimator\n",
    "\n",
    "When a custom model is constructed in SageMaker, an entry point must be specified. This is the Python file which will be executed when the model is trained; the `train.py` function you specified above. To run a custom training script in SageMaker, construct an estimator, and fill in the appropriate constructor arguments:\n",
    "\n",
    "* **entry_point**: The path to the Python script SageMaker runs for training and prediction.\n",
    "* **source_dir**: The path to the training script directory `source_sklearn` OR `source_pytorch`.\n",
    "* **entry_point**: The path to the Python script SageMaker runs for training and prediction.\n",
    "* **source_dir**: The path to the training script directory `train_sklearn` OR `train_pytorch`.\n",
    "* **entry_point**: The path to the Python script SageMaker runs for training.\n",
    "* **source_dir**: The path to the training script directory `train_sklearn` OR `train_pytorch`.\n",
    "* **role**: Role ARN, which was specified, above.\n",
    "* **train_instance_count**: The number of training instances (should be left at 1).\n",
    "* **train_instance_type**: The type of SageMaker instance for training. Note: Because Scikit-learn does not natively support GPU training, Sagemaker Scikit-learn does not currently support training on GPU instance types.\n",
    "* **sagemaker_session**: The session used to train on Sagemaker.\n",
    "* **hyperparameters** (optional): A dictionary `{'name':value, ..}` passed to the train function as hyperparameters.\n",
    "\n",
    "Note: For a PyTorch model, there is another optional argument **framework_version**, which you can set to the latest version of PyTorch, `1.0`.\n",
    "\n",
    "## EXERCISE: Define a Scikit-learn or PyTorch estimator\n",
    "\n",
    "To import your desired estimator, use one of the following lines:\n",
    "```\n",
    "from sagemaker.sklearn.estimator import SKLearn\n",
    "```\n",
    "```\n",
    "from sagemaker.pytorch import PyTorch\n",
    "```"
   ]
  },
  {
   "cell_type": "code",
   "execution_count": 41,
   "metadata": {},
   "outputs": [],
   "source": [
    "from sagemaker.pytorch import PyTorch\n",
    "\n",
    "# your import and estimator code, here\n",
    "output_path='s3://{}/{}'.format(bucket,prefix)\n",
    "\n",
    "estimator = PyTorch(entry_point='train.py',\n",
    "                   source_dir='source_pytorch',\n",
    "                   role=role,\n",
    "                   framework_version='1.0',\n",
    "                   train_instance_count=1,\n",
    "                   train_instance_type='ml.c4.xlarge',\n",
    "                   output_path=output_path,\n",
    "                   sagemaker_session=sagemaker_session,\n",
    "                   hyperparameters={\n",
    "                       'input_features':4,\n",
    "                       'hidden_dim':20,\n",
    "                       'output_dim':1,\n",
    "                       'epochs':120\n",
    "                   })\n",
    "\n"
   ]
  },
  {
   "cell_type": "markdown",
   "metadata": {},
   "source": [
    "## EXERCISE: Train the estimator\n",
    "\n",
    "Train your estimator on the training data stored in S3. This should create a training job that you can monitor in your SageMaker console."
   ]
  },
  {
   "cell_type": "code",
   "execution_count": 42,
   "metadata": {},
   "outputs": [
    {
     "name": "stdout",
     "output_type": "stream",
     "text": [
      "2020-02-04 12:45:55 Starting - Starting the training job......\n",
      "2020-02-04 12:46:25 Starting - Launching requested ML instances...\n",
      "2020-02-04 12:47:25 Starting - Preparing the instances for training......\n",
      "2020-02-04 12:48:13 Downloading - Downloading input data...\n",
      "2020-02-04 12:48:55 Training - Training image download completed. Training in progress.\n",
      "2020-02-04 12:48:55 Uploading - Uploading generated training model\u001b[34mbash: cannot set terminal process group (-1): Inappropriate ioctl for device\u001b[0m\n",
      "\u001b[34mbash: no job control in this shell\u001b[0m\n",
      "\u001b[34m2020-02-04 12:48:45,685 sagemaker-containers INFO     Imported framework sagemaker_pytorch_container.training\u001b[0m\n",
      "\u001b[34m2020-02-04 12:48:45,688 sagemaker-containers INFO     No GPUs detected (normal if no gpus installed)\u001b[0m\n",
      "\u001b[34m2020-02-04 12:48:45,700 sagemaker_pytorch_container.training INFO     Block until all host DNS lookups succeed.\u001b[0m\n",
      "\u001b[34m2020-02-04 12:48:48,788 sagemaker_pytorch_container.training INFO     Invoking user training script.\u001b[0m\n",
      "\u001b[34m2020-02-04 12:48:49,129 sagemaker-containers INFO     Module train does not provide a setup.py. \u001b[0m\n",
      "\u001b[34mGenerating setup.py\u001b[0m\n",
      "\u001b[34m2020-02-04 12:48:49,129 sagemaker-containers INFO     Generating setup.cfg\u001b[0m\n",
      "\u001b[34m2020-02-04 12:48:49,129 sagemaker-containers INFO     Generating MANIFEST.in\u001b[0m\n",
      "\u001b[34m2020-02-04 12:48:49,130 sagemaker-containers INFO     Installing module with the following command:\u001b[0m\n",
      "\u001b[34m/usr/bin/python -m pip install -U . \u001b[0m\n",
      "\u001b[34mProcessing /opt/ml/code\u001b[0m\n",
      "\u001b[34mBuilding wheels for collected packages: train\n",
      "  Running setup.py bdist_wheel for train: started\u001b[0m\n",
      "\u001b[34m  Running setup.py bdist_wheel for train: finished with status 'done'\n",
      "  Stored in directory: /tmp/pip-ephem-wheel-cache-uuknxuy7/wheels/35/24/16/37574d11bf9bde50616c67372a334f94fa8356bc7164af8ca3\u001b[0m\n",
      "\u001b[34mSuccessfully built train\u001b[0m\n",
      "\u001b[34mInstalling collected packages: train\u001b[0m\n",
      "\u001b[34mSuccessfully installed train-1.0.0\u001b[0m\n",
      "\u001b[34mYou are using pip version 18.1, however version 20.0.2 is available.\u001b[0m\n",
      "\u001b[34mYou should consider upgrading via the 'pip install --upgrade pip' command.\u001b[0m\n",
      "\u001b[34m2020-02-04 12:48:50,727 sagemaker-containers INFO     No GPUs detected (normal if no gpus installed)\u001b[0m\n",
      "\u001b[34m2020-02-04 12:48:50,739 sagemaker-containers INFO     Invoking user script\n",
      "\u001b[0m\n",
      "\u001b[34mTraining Env:\n",
      "\u001b[0m\n",
      "\u001b[34m{\n",
      "    \"additional_framework_parameters\": {},\n",
      "    \"channel_input_dirs\": {\n",
      "        \"train\": \"/opt/ml/input/data/train\"\n",
      "    },\n",
      "    \"current_host\": \"algo-1\",\n",
      "    \"framework_module\": \"sagemaker_pytorch_container.training:main\",\n",
      "    \"hosts\": [\n",
      "        \"algo-1\"\n",
      "    ],\n",
      "    \"hyperparameters\": {\n",
      "        \"hidden_dim\": 20,\n",
      "        \"input_features\": 4,\n",
      "        \"epochs\": 120,\n",
      "        \"output_dim\": 1\n",
      "    },\n",
      "    \"input_config_dir\": \"/opt/ml/input/config\",\n",
      "    \"input_data_config\": {\n",
      "        \"train\": {\n",
      "            \"TrainingInputMode\": \"File\",\n",
      "            \"S3DistributionType\": \"FullyReplicated\",\n",
      "            \"RecordWrapperType\": \"None\"\n",
      "        }\n",
      "    },\n",
      "    \"input_dir\": \"/opt/ml/input\",\n",
      "    \"is_master\": true,\n",
      "    \"job_name\": \"sagemaker-pytorch-2020-02-04-12-45-55-267\",\n",
      "    \"log_level\": 20,\n",
      "    \"master_hostname\": \"algo-1\",\n",
      "    \"model_dir\": \"/opt/ml/model\",\n",
      "    \"module_dir\": \"s3://sagemaker-ap-southeast-1-932825553505/sagemaker-pytorch-2020-02-04-12-45-55-267/source/sourcedir.tar.gz\",\n",
      "    \"module_name\": \"train\",\n",
      "    \"network_interface_name\": \"eth0\",\n",
      "    \"num_cpus\": 4,\n",
      "    \"num_gpus\": 0,\n",
      "    \"output_data_dir\": \"/opt/ml/output/data\",\n",
      "    \"output_dir\": \"/opt/ml/output\",\n",
      "    \"output_intermediate_dir\": \"/opt/ml/output/intermediate\",\n",
      "    \"resource_config\": {\n",
      "        \"current_host\": \"algo-1\",\n",
      "        \"hosts\": [\n",
      "            \"algo-1\"\n",
      "        ],\n",
      "        \"network_interface_name\": \"eth0\"\n",
      "    },\n",
      "    \"user_entry_point\": \"train.py\"\u001b[0m\n",
      "\u001b[34m}\n",
      "\u001b[0m\n",
      "\u001b[34mEnvironment variables:\n",
      "\u001b[0m\n",
      "\u001b[34mSM_HOSTS=[\"algo-1\"]\u001b[0m\n",
      "\u001b[34mSM_NETWORK_INTERFACE_NAME=eth0\u001b[0m\n",
      "\u001b[34mSM_HPS={\"epochs\":120,\"hidden_dim\":20,\"input_features\":4,\"output_dim\":1}\u001b[0m\n",
      "\u001b[34mSM_USER_ENTRY_POINT=train.py\u001b[0m\n",
      "\u001b[34mSM_FRAMEWORK_PARAMS={}\u001b[0m\n",
      "\u001b[34mSM_RESOURCE_CONFIG={\"current_host\":\"algo-1\",\"hosts\":[\"algo-1\"],\"network_interface_name\":\"eth0\"}\u001b[0m\n",
      "\u001b[34mSM_INPUT_DATA_CONFIG={\"train\":{\"RecordWrapperType\":\"None\",\"S3DistributionType\":\"FullyReplicated\",\"TrainingInputMode\":\"File\"}}\u001b[0m\n",
      "\u001b[34mSM_OUTPUT_DATA_DIR=/opt/ml/output/data\u001b[0m\n",
      "\u001b[34mSM_CHANNELS=[\"train\"]\u001b[0m\n",
      "\u001b[34mSM_CURRENT_HOST=algo-1\u001b[0m\n",
      "\u001b[34mSM_MODULE_NAME=train\u001b[0m\n",
      "\u001b[34mSM_LOG_LEVEL=20\u001b[0m\n",
      "\u001b[34mSM_FRAMEWORK_MODULE=sagemaker_pytorch_container.training:main\u001b[0m\n",
      "\u001b[34mSM_INPUT_DIR=/opt/ml/input\u001b[0m\n",
      "\u001b[34mSM_INPUT_CONFIG_DIR=/opt/ml/input/config\u001b[0m\n",
      "\u001b[34mSM_OUTPUT_DIR=/opt/ml/output\u001b[0m\n",
      "\u001b[34mSM_NUM_CPUS=4\u001b[0m\n",
      "\u001b[34mSM_NUM_GPUS=0\u001b[0m\n",
      "\u001b[34mSM_MODEL_DIR=/opt/ml/model\u001b[0m\n",
      "\u001b[34mSM_MODULE_DIR=s3://sagemaker-ap-southeast-1-932825553505/sagemaker-pytorch-2020-02-04-12-45-55-267/source/sourcedir.tar.gz\u001b[0m\n",
      "\u001b[34mSM_TRAINING_ENV={\"additional_framework_parameters\":{},\"channel_input_dirs\":{\"train\":\"/opt/ml/input/data/train\"},\"current_host\":\"algo-1\",\"framework_module\":\"sagemaker_pytorch_container.training:main\",\"hosts\":[\"algo-1\"],\"hyperparameters\":{\"epochs\":120,\"hidden_dim\":20,\"input_features\":4,\"output_dim\":1},\"input_config_dir\":\"/opt/ml/input/config\",\"input_data_config\":{\"train\":{\"RecordWrapperType\":\"None\",\"S3DistributionType\":\"FullyReplicated\",\"TrainingInputMode\":\"File\"}},\"input_dir\":\"/opt/ml/input\",\"is_master\":true,\"job_name\":\"sagemaker-pytorch-2020-02-04-12-45-55-267\",\"log_level\":20,\"master_hostname\":\"algo-1\",\"model_dir\":\"/opt/ml/model\",\"module_dir\":\"s3://sagemaker-ap-southeast-1-932825553505/sagemaker-pytorch-2020-02-04-12-45-55-267/source/sourcedir.tar.gz\",\"module_name\":\"train\",\"network_interface_name\":\"eth0\",\"num_cpus\":4,\"num_gpus\":0,\"output_data_dir\":\"/opt/ml/output/data\",\"output_dir\":\"/opt/ml/output\",\"output_intermediate_dir\":\"/opt/ml/output/intermediate\",\"resource_config\":{\"current_host\":\"algo-1\",\"hosts\":[\"algo-1\"],\"network_interface_name\":\"eth0\"},\"user_entry_point\":\"train.py\"}\u001b[0m\n",
      "\u001b[34mSM_USER_ARGS=[\"--epochs\",\"120\",\"--hidden_dim\",\"20\",\"--input_features\",\"4\",\"--output_dim\",\"1\"]\u001b[0m\n",
      "\u001b[34mSM_OUTPUT_INTERMEDIATE_DIR=/opt/ml/output/intermediate\u001b[0m\n",
      "\u001b[34mSM_CHANNEL_TRAIN=/opt/ml/input/data/train\u001b[0m\n",
      "\u001b[34mSM_HP_HIDDEN_DIM=20\u001b[0m\n",
      "\u001b[34mSM_HP_INPUT_FEATURES=4\u001b[0m\n",
      "\u001b[34mSM_HP_EPOCHS=120\u001b[0m\n",
      "\u001b[34mSM_HP_OUTPUT_DIM=1\u001b[0m\n",
      "\u001b[34mPYTHONPATH=/usr/local/bin:/usr/lib/python36.zip:/usr/lib/python3.6:/usr/lib/python3.6/lib-dynload:/usr/local/lib/python3.6/dist-packages:/usr/lib/python3/dist-packages\n",
      "\u001b[0m\n",
      "\u001b[34mInvoking script with the following command:\n",
      "\u001b[0m\n",
      "\u001b[34m/usr/bin/python -m train --epochs 120 --hidden_dim 20 --input_features 4 --output_dim 1\n",
      "\n",
      "\u001b[0m\n",
      "\u001b[34mUsing device cpu.\u001b[0m\n",
      "\u001b[34mGet train data loader.\u001b[0m\n",
      "\u001b[34mEpoch: 1, Loss: 0.6829991255487714\u001b[0m\n",
      "\u001b[34mEpoch: 2, Loss: 0.6894770009177071\u001b[0m\n",
      "\u001b[34mEpoch: 3, Loss: 0.6770671095166888\u001b[0m\n",
      "\u001b[34mEpoch: 4, Loss: 0.673926191670554\u001b[0m\n",
      "\u001b[34mEpoch: 5, Loss: 0.6691973635128566\u001b[0m\n",
      "\u001b[34mEpoch: 6, Loss: 0.6695215702056885\u001b[0m\n",
      "\u001b[34mEpoch: 7, Loss: 0.6592867289270673\u001b[0m\n",
      "\u001b[34mEpoch: 8, Loss: 0.6529584016118731\u001b[0m\n",
      "\u001b[34mEpoch: 9, Loss: 0.652106761932373\u001b[0m\n",
      "\u001b[34mEpoch: 10, Loss: 0.6375844052859715\u001b[0m\n",
      "\u001b[34mEpoch: 11, Loss: 0.6402344363076347\u001b[0m\n",
      "\u001b[34mEpoch: 12, Loss: 0.6269768561635699\u001b[0m\n",
      "\u001b[34mEpoch: 13, Loss: 0.6219610060964312\u001b[0m\n",
      "\u001b[34mEpoch: 14, Loss: 0.606522262096405\u001b[0m\n",
      "\u001b[34mEpoch: 15, Loss: 0.6067755477769035\u001b[0m\n",
      "\u001b[34mEpoch: 16, Loss: 0.6101227062089103\u001b[0m\n",
      "\u001b[34mEpoch: 17, Loss: 0.598800505910601\u001b[0m\n",
      "\u001b[34mEpoch: 18, Loss: 0.6048206772123065\u001b[0m\n",
      "\u001b[34mEpoch: 19, Loss: 0.5890999266079494\u001b[0m\n",
      "\u001b[34mEpoch: 20, Loss: 0.5699160269328526\u001b[0m\n",
      "\u001b[34mEpoch: 21, Loss: 0.5623778019632611\u001b[0m\n",
      "\u001b[34mEpoch: 22, Loss: 0.5356898861271995\u001b[0m\n",
      "\u001b[34mEpoch: 23, Loss: 0.5441244968346187\u001b[0m\n",
      "\u001b[34mEpoch: 24, Loss: 0.5383534857204982\u001b[0m\n",
      "\u001b[34mEpoch: 25, Loss: 0.5146565394742149\u001b[0m\n",
      "\u001b[34mEpoch: 26, Loss: 0.5048686223370689\u001b[0m\n",
      "\u001b[34mEpoch: 27, Loss: 0.5155410170555115\u001b[0m\n",
      "\u001b[34mEpoch: 28, Loss: 0.5121929773262569\u001b[0m\n",
      "\u001b[34mEpoch: 29, Loss: 0.4877515137195587\u001b[0m\n",
      "\u001b[34mEpoch: 30, Loss: 0.47776550480297636\u001b[0m\n",
      "\u001b[34mEpoch: 31, Loss: 0.4769008755683899\u001b[0m\n",
      "\u001b[34mEpoch: 32, Loss: 0.4794556498527527\u001b[0m\n",
      "\u001b[34mEpoch: 33, Loss: 0.4611014553478786\u001b[0m\n",
      "\u001b[34mEpoch: 34, Loss: 0.46228608063289095\u001b[0m\n",
      "\u001b[34mEpoch: 35, Loss: 0.42694746596472605\u001b[0m\n",
      "\u001b[34mEpoch: 36, Loss: 0.4368594416550228\u001b[0m\n",
      "\u001b[34mEpoch: 37, Loss: 0.4331883830683572\u001b[0m\n",
      "\u001b[34mEpoch: 38, Loss: 0.4164495936461857\u001b[0m\n",
      "\u001b[34mEpoch: 39, Loss: 0.40945920773914884\u001b[0m\n",
      "\u001b[34mEpoch: 40, Loss: 0.3900540385927473\u001b[0m\n",
      "\u001b[34mEpoch: 41, Loss: 0.41695330824170795\u001b[0m\n",
      "\u001b[34mEpoch: 42, Loss: 0.4024166464805603\u001b[0m\n",
      "\u001b[34mEpoch: 43, Loss: 0.3889443555048534\u001b[0m\n",
      "\u001b[34mEpoch: 44, Loss: 0.3959947909627642\u001b[0m\n",
      "\u001b[34mEpoch: 45, Loss: 0.34899221999304636\u001b[0m\n",
      "\u001b[34mEpoch: 46, Loss: 0.38868403009005953\u001b[0m\n",
      "\u001b[34mEpoch: 47, Loss: 0.3490842218909945\u001b[0m\n",
      "\u001b[34mEpoch: 48, Loss: 0.35092725285461973\u001b[0m\n",
      "\u001b[34mEpoch: 49, Loss: 0.3426961132458278\u001b[0m\n",
      "\u001b[34mEpoch: 50, Loss: 0.37061225516455515\u001b[0m\n",
      "\u001b[34mEpoch: 51, Loss: 0.3354066525186811\u001b[0m\n",
      "\u001b[34mEpoch: 52, Loss: 0.3320365846157074\u001b[0m\n",
      "\u001b[34mEpoch: 53, Loss: 0.31279422981398447\u001b[0m\n",
      "\u001b[34mEpoch: 54, Loss: 0.3357751646212169\u001b[0m\n",
      "\u001b[34mEpoch: 55, Loss: 0.32760307618549894\u001b[0m\n",
      "\u001b[34mEpoch: 56, Loss: 0.3436117342540196\u001b[0m\n",
      "\u001b[34mEpoch: 57, Loss: 0.3262873611279896\u001b[0m\n",
      "\u001b[34mEpoch: 58, Loss: 0.32821268268993925\u001b[0m\n",
      "\u001b[34mEpoch: 59, Loss: 0.31252430166516987\u001b[0m\n",
      "\u001b[34mEpoch: 60, Loss: 0.3033348023891449\u001b[0m\n",
      "\u001b[34mEpoch: 61, Loss: 0.28612840601376127\u001b[0m\n",
      "\u001b[34mEpoch: 62, Loss: 0.3085663786956242\u001b[0m\n",
      "\u001b[34mEpoch: 63, Loss: 0.2999168464115688\u001b[0m\n",
      "\u001b[34mEpoch: 64, Loss: 0.29443542446408955\u001b[0m\n",
      "\u001b[34mEpoch: 65, Loss: 0.29080485871859957\u001b[0m\n",
      "\u001b[34mEpoch: 66, Loss: 0.3133498749562672\u001b[0m\n",
      "\u001b[34mEpoch: 67, Loss: 0.27922004035540987\u001b[0m\n",
      "\u001b[34mEpoch: 68, Loss: 0.2951325476169586\u001b[0m\n",
      "\u001b[34mEpoch: 69, Loss: 0.2971127097095762\u001b[0m\n",
      "\u001b[34mEpoch: 70, Loss: 0.27510909310409\u001b[0m\n",
      "\u001b[34mEpoch: 71, Loss: 0.2872825988701412\u001b[0m\n",
      "\u001b[34mEpoch: 72, Loss: 0.2844458967447281\u001b[0m\n",
      "\u001b[34mEpoch: 73, Loss: 0.2817801854440144\u001b[0m\n",
      "\u001b[34mEpoch: 74, Loss: 0.28489302737372263\u001b[0m\n",
      "\u001b[34mEpoch: 75, Loss: 0.2546961860997336\u001b[0m\n",
      "\u001b[34mEpoch: 76, Loss: 0.27244565955230166\u001b[0m\n",
      "\u001b[34mEpoch: 77, Loss: 0.28367254031555994\u001b[0m\n",
      "\u001b[34mEpoch: 78, Loss: 0.23931310432297842\u001b[0m\n",
      "\u001b[34mEpoch: 79, Loss: 0.23737436532974243\u001b[0m\n",
      "\u001b[34mEpoch: 80, Loss: 0.2544423224670546\u001b[0m\n",
      "\u001b[34mEpoch: 81, Loss: 0.24302400648593903\u001b[0m\n",
      "\u001b[34mEpoch: 82, Loss: 0.22134457315717423\u001b[0m\n",
      "\u001b[34mEpoch: 83, Loss: 0.2718498536518642\u001b[0m\n",
      "\u001b[34mEpoch: 84, Loss: 0.2570852594716208\u001b[0m\n",
      "\u001b[34mEpoch: 85, Loss: 0.2409359450851168\u001b[0m\n",
      "\u001b[34mEpoch: 86, Loss: 0.22715731923069274\u001b[0m\n",
      "\u001b[34mEpoch: 87, Loss: 0.22500107330935343\u001b[0m\n",
      "\u001b[34mEpoch: 88, Loss: 0.23057765513658524\u001b[0m\n",
      "\u001b[34mEpoch: 89, Loss: 0.23749850690364838\u001b[0m\n",
      "\u001b[34mEpoch: 90, Loss: 0.23314742743968964\u001b[0m\n",
      "\u001b[34mEpoch: 91, Loss: 0.23271394414561136\u001b[0m\n",
      "\u001b[34mEpoch: 92, Loss: 0.2535797102110727\u001b[0m\n",
      "\u001b[34mEpoch: 93, Loss: 0.2559852046625955\u001b[0m\n",
      "\u001b[34mEpoch: 94, Loss: 0.24310132009642466\u001b[0m\n",
      "\u001b[34mEpoch: 95, Loss: 0.2145644085747855\u001b[0m\n",
      "\u001b[34mEpoch: 96, Loss: 0.2291790864297322\u001b[0m\n",
      "\u001b[34mEpoch: 97, Loss: 0.21107361678566253\u001b[0m\n",
      "\u001b[34mEpoch: 98, Loss: 0.22251185455492564\u001b[0m\n",
      "\u001b[34mEpoch: 99, Loss: 0.23787169264895575\u001b[0m\n",
      "\u001b[34mEpoch: 100, Loss: 0.22300626231091364\u001b[0m\n",
      "\u001b[34mEpoch: 101, Loss: 0.22890888154506683\u001b[0m\n",
      "\u001b[34mEpoch: 102, Loss: 0.23628861669983184\u001b[0m\n",
      "\u001b[34mEpoch: 103, Loss: 0.22514768902744567\u001b[0m\n",
      "\u001b[34mEpoch: 104, Loss: 0.20626131338732584\u001b[0m\n",
      "\u001b[34mEpoch: 105, Loss: 0.17022510830845153\u001b[0m\n",
      "\u001b[34mEpoch: 106, Loss: 0.23346254974603653\u001b[0m\n",
      "\u001b[34mEpoch: 107, Loss: 0.23576615804008075\u001b[0m\n",
      "\u001b[34mEpoch: 108, Loss: 0.20590471157005855\u001b[0m\n",
      "\u001b[34mEpoch: 109, Loss: 0.2329721301794052\u001b[0m\n",
      "\u001b[34mEpoch: 110, Loss: 0.20549969694444112\u001b[0m\n",
      "\u001b[34mEpoch: 111, Loss: 0.20995839738420077\u001b[0m\n",
      "\u001b[34mEpoch: 112, Loss: 0.23039243476731436\u001b[0m\n",
      "\u001b[34mEpoch: 113, Loss: 0.18983621203473636\u001b[0m\n",
      "\u001b[34mEpoch: 114, Loss: 0.1841705845935004\u001b[0m\n",
      "\u001b[34mEpoch: 115, Loss: 0.22080000915697642\u001b[0m\n",
      "\u001b[34mEpoch: 116, Loss: 0.20676987086023604\u001b[0m\n",
      "\u001b[34mEpoch: 117, Loss: 0.20506169966288976\u001b[0m\n",
      "\u001b[34mEpoch: 118, Loss: 0.21585361872400557\u001b[0m\n",
      "\u001b[34mEpoch: 119, Loss: 0.24571925508124487\u001b[0m\n",
      "\u001b[34mEpoch: 120, Loss: 0.1954112329653331\u001b[0m\n",
      "\u001b[34m2020-02-04 12:48:52,853 sagemaker-containers INFO     Reporting training SUCCESS\u001b[0m\n",
      "\n",
      "2020-02-04 12:49:02 Completed - Training job completed\n",
      "Training seconds: 49\n",
      "Billable seconds: 49\n",
      "CPU times: user 467 ms, sys: 32.9 ms, total: 500 ms\n",
      "Wall time: 3min 42s\n"
     ]
    }
   ],
   "source": [
    "%%time\n",
    "\n",
    "# Train your estimator on S3 training data\n",
    "estimator.fit({'train':input_data})\n"
   ]
  },
  {
   "cell_type": "markdown",
   "metadata": {},
   "source": [
    "## EXERCISE: Deploy the trained model\n",
    "\n",
    "After training, deploy your model to create a `predictor`. If you're using a PyTorch model, you'll need to create a trained `PyTorchModel` that accepts the trained `<model>.model_data` as an input parameter and points to the provided `source_pytorch/predict.py` file as an entry point. \n",
    "\n",
    "To deploy a trained model, you'll use `<model>.deploy`, which takes in two arguments:\n",
    "* **initial_instance_count**: The number of deployed instances (1).\n",
    "* **instance_type**: The type of SageMaker instance for deployment.\n",
    "\n",
    "Note: If you run into an instance error, it may be because you chose the wrong training or deployment instance_type. It may help to refer to your previous exercise code to see which types of instances we used."
   ]
  },
  {
   "cell_type": "code",
   "execution_count": 43,
   "metadata": {},
   "outputs": [
    {
     "name": "stdout",
     "output_type": "stream",
     "text": [
      "--------------!CPU times: user 356 ms, sys: 30.3 ms, total: 386 ms\n",
      "Wall time: 7min 3s\n"
     ]
    }
   ],
   "source": [
    "%%time\n",
    "\n",
    "# uncomment, if needed\n",
    "from sagemaker.pytorch import PyTorchModel\n",
    "\n",
    "model = PyTorchModel(model_data=estimator.model_data,\n",
    "                    role=role,\n",
    "                    framework_version='1.0',\n",
    "                    entry_point='predict.py',\n",
    "                    source_dir='source_pytorch')\n",
    "\n",
    "# deploy your model to create a predictor\n",
    "predictor = model.deploy(initial_instance_count=1, instance_type='ml.t2.medium')\n"
   ]
  },
  {
   "cell_type": "markdown",
   "metadata": {},
   "source": [
    "---\n",
    "# Evaluating Your Model\n",
    "\n",
    "Once your model is deployed, you can see how it performs when applied to our test data.\n",
    "\n",
    "The provided cell below, reads in the test data, assuming it is stored locally in `data_dir` and named `test.csv`. The labels and features are extracted from the `.csv` file."
   ]
  },
  {
   "cell_type": "code",
   "execution_count": 44,
   "metadata": {},
   "outputs": [],
   "source": [
    "\"\"\"\n",
    "DON'T MODIFY ANYTHING IN THIS CELL THAT IS BELOW THIS LINE\n",
    "\"\"\"\n",
    "import os\n",
    "\n",
    "# read in test data, assuming it is stored locally\n",
    "test_data = pd.read_csv(os.path.join(data_dir, \"test.csv\"), header=None, names=None)\n",
    "\n",
    "# labels are in the first column\n",
    "test_y = test_data.iloc[:,0]\n",
    "test_x = test_data.iloc[:,1:]"
   ]
  },
  {
   "cell_type": "markdown",
   "metadata": {},
   "source": [
    "## EXERCISE: Determine the accuracy of your model\n",
    "\n",
    "Use your deployed `predictor` to generate predicted, class labels for the test data. Compare those to the *true* labels, `test_y`, and calculate the accuracy as a value between 0 and 1.0 that indicates the fraction of test data that your model classified correctly. You may use [sklearn.metrics](https://scikit-learn.org/stable/modules/classes.html#module-sklearn.metrics) for this calculation.\n",
    "\n",
    "**To pass this project, your model should get at least 90% test accuracy.**"
   ]
  },
  {
   "cell_type": "code",
   "execution_count": 45,
   "metadata": {},
   "outputs": [
    {
     "name": "stdout",
     "output_type": "stream",
     "text": [
      "Test passed!\n"
     ]
    }
   ],
   "source": [
    "import numpy as np\n",
    "# First: generate predicted, class labels\n",
    "test_y_preds = np.squeeze(np.round(predictor.predict(test_x)))\n",
    "\n",
    "\n",
    "\"\"\"\n",
    "DON'T MODIFY ANYTHING IN THIS CELL THAT IS BELOW THIS LINE\n",
    "\"\"\"\n",
    "# test that your model generates the correct number of labels\n",
    "assert len(test_y_preds)==len(test_y), 'Unexpected number of predictions.'\n",
    "print('Test passed!')"
   ]
  },
  {
   "cell_type": "code",
   "execution_count": 46,
   "metadata": {},
   "outputs": [
    {
     "name": "stdout",
     "output_type": "stream",
     "text": [
      "1.0\n",
      "fp=0, fn=0\n",
      "\n",
      "Predicted class labels: \n",
      "[1. 1. 1. 1. 1. 1. 0. 0. 0. 0. 0. 0. 1. 1. 1. 1. 1. 1. 0. 1. 0. 1. 1. 0.\n",
      " 0.]\n",
      "\n",
      "True class labels: \n",
      "[1 1 1 1 1 1 0 0 0 0 0 0 1 1 1 1 1 1 0 1 0 1 1 0 0]\n"
     ]
    }
   ],
   "source": [
    "# Second: calculate the test accuracy\n",
    "tp = np.logical_and(test_y,test_y_preds).sum()\n",
    "fp = np.logical_and(1-test_y,test_y_preds).sum()\n",
    "tn = np.logical_and(1-test_y,1-test_y_preds).sum()\n",
    "fn = np.logical_and(test_y,1-test_y_preds).sum()    \n",
    "    \n",
    "accuracy = (tp + tn) / (tp + fp + tn + fn)\n",
    "\n",
    "print(accuracy)\n",
    "print('fp={}, fn={}'.format(fp,fn))\n",
    "\n",
    "## print out the array of predicted and true labels, if you want\n",
    "print('\\nPredicted class labels: ')\n",
    "print(test_y_preds)\n",
    "print('\\nTrue class labels: ')\n",
    "print(test_y.values)"
   ]
  },
  {
   "cell_type": "markdown",
   "metadata": {},
   "source": [
    "### Question 1: How many false positives and false negatives did your model produce, if any? And why do you think this is?"
   ]
  },
  {
   "cell_type": "markdown",
   "metadata": {},
   "source": [
    "** Answer**: The model produced no false positives and no false negatives. The model has 3 neural network layers and has high precision and accuracy."
   ]
  },
  {
   "cell_type": "markdown",
   "metadata": {},
   "source": [
    "### Question 2: How did you decide on the type of model to use? "
   ]
  },
  {
   "cell_type": "markdown",
   "metadata": {},
   "source": [
    "** Answer**: In the lesson, I've used PyTorch to create a binary classifier and it has high accuracy when I have 3 layers in total and high number of epochs. Therefore, in this project, I continue to use 3 layers and high number of epochs.\n",
    "\n"
   ]
  },
  {
   "cell_type": "markdown",
   "metadata": {},
   "source": [
    "----\n",
    "## EXERCISE: Clean up Resources\n",
    "\n",
    "After you're done evaluating your model, **delete your model endpoint**. You can do this with a call to `.delete_endpoint()`. You need to show, in this notebook, that the endpoint was deleted. Any other resources, you may delete from the AWS console, and you will find more instructions on cleaning up all your resources, below."
   ]
  },
  {
   "cell_type": "code",
   "execution_count": 51,
   "metadata": {},
   "outputs": [],
   "source": [
    "# uncomment and fill in the line below!\n",
    "\n",
    "predictor.delete_endpoint()\n"
   ]
  },
  {
   "cell_type": "markdown",
   "metadata": {},
   "source": [
    "### Deleting S3 bucket\n",
    "\n",
    "When you are *completely* done with training and testing models, you can also delete your entire S3 bucket. If you do this before you are done training your model, you'll have to recreate your S3 bucket and upload your training data again."
   ]
  },
  {
   "cell_type": "code",
   "execution_count": 52,
   "metadata": {},
   "outputs": [
    {
     "data": {
      "text/plain": [
       "[{'ResponseMetadata': {'RequestId': '897175953041F61F',\n",
       "   'HostId': '9JTiVrfEI+DmmzE1BTt0XDneDCmukBAJlbm8lAv6W4nUroNvrRB7/XBroFVA9CEpAOLxXjEnvWg=',\n",
       "   'HTTPStatusCode': 200,\n",
       "   'HTTPHeaders': {'x-amz-id-2': '9JTiVrfEI+DmmzE1BTt0XDneDCmukBAJlbm8lAv6W4nUroNvrRB7/XBroFVA9CEpAOLxXjEnvWg=',\n",
       "    'x-amz-request-id': '897175953041F61F',\n",
       "    'date': 'Tue, 04 Feb 2020 13:01:45 GMT',\n",
       "    'connection': 'close',\n",
       "    'content-type': 'application/xml',\n",
       "    'transfer-encoding': 'chunked',\n",
       "    'server': 'AmazonS3'},\n",
       "   'RetryAttempts': 0},\n",
       "  'Deleted': [{'Key': 'data-plagiarism/sagemaker-pytorch-2020-02-04-11-16-21-085/debug-output/training_job_end.ts'},\n",
       "   {'Key': 'sagemaker-pytorch-2020-02-04-11-26-17-533/source/sourcedir.tar.gz'},\n",
       "   {'Key': 'data-plagiarism/sagemaker-pytorch-2020-02-03-14-03-27-037/debug-output/training_job_end.ts'},\n",
       "   {'Key': 'data-plagiarism/sagemaker-pytorch-2020-02-03-13-53-09-652/debug-output/training_job_end.ts'},\n",
       "   {'Key': 'data-plagiarism/sagemaker-pytorch-2020-02-04-11-22-32-658/debug-output/training_job_end.ts'},\n",
       "   {'Key': 'sagemaker-pytorch-2020-02-04-12-45-55-267/source/sourcedir.tar.gz'},\n",
       "   {'Key': 'sagemaker-pytorch-2020-02-04-11-00-41-273/source/sourcedir.tar.gz'},\n",
       "   {'Key': 'sagemaker-pytorch-2020-02-03-13-53-09-652/source/sourcedir.tar.gz'},\n",
       "   {'Key': 'sagemaker-pytorch-2020-02-04-10-46-56-442/source/sourcedir.tar.gz'},\n",
       "   {'Key': 'sagemaker-pytorch-2020-02-04-11-22-32-658/source/sourcedir.tar.gz'},\n",
       "   {'Key': 'data-plagiarism/sagemaker-pytorch-2020-02-04-10-46-56-442/debug-output/training_job_end.ts'},\n",
       "   {'Key': 'sagemaker-pytorch-2020-02-03-14-03-27-037/source/sourcedir.tar.gz'},\n",
       "   {'Key': 'sagemaker-pytorch-2020-02-04-11-16-21-085/source/sourcedir.tar.gz'},\n",
       "   {'Key': 'sagemaker-pytorch-2020-02-04-10-36-25-786/source/sourcedir.tar.gz'},\n",
       "   {'Key': 'data-plagiarism/sagemaker-pytorch-2020-02-04-11-26-17-533/debug-output/training_job_end.ts'},\n",
       "   {'Key': 'sagemaker-pytorch-2020-02-03-14-32-38-959/source/sourcedir.tar.gz'},\n",
       "   {'Key': 'data-plagiarism/sagemaker-pytorch-2020-02-03-13-29-49-121/debug-output/training_job_end.ts'},\n",
       "   {'Key': 'data-plagiarism/test.csv'},\n",
       "   {'Key': 'data-plagiarism/train.csv'},\n",
       "   {'Key': 'sagemaker-pytorch-2020-02-03-13-29-49-121/source/sourcedir.tar.gz'},\n",
       "   {'Key': 'data-plagiarism/sagemaker-pytorch-2020-02-04-11-00-41-273/debug-output/training_job_end.ts'},\n",
       "   {'Key': 'data-plagiarism/sagemaker-pytorch-2020-02-04-11-10-05-418/debug-output/training_job_end.ts'},\n",
       "   {'Key': 'sagemaker-pytorch-2020-02-04-11-43-24-671/sourcedir.tar.gz'},\n",
       "   {'Key': 'sagemaker-pytorch-2020-02-03-14-15-24-494/source/sourcedir.tar.gz'},\n",
       "   {'Key': 'sagemaker-pytorch-2020-02-04-11-10-05-418/source/sourcedir.tar.gz'},\n",
       "   {'Key': 'data-plagiarism/sagemaker-pytorch-2020-02-04-11-31-29-745/debug-output/training_job_end.ts'},\n",
       "   {'Key': 'sagemaker-pytorch-2020-02-04-12-49-37-563/sourcedir.tar.gz'},\n",
       "   {'Key': 'data-plagiarism/sagemaker-pytorch-2020-02-04-12-45-55-267/debug-output/training_job_end.ts'},\n",
       "   {'Key': 'data-plagiarism/sagemaker-pytorch-2020-02-03-14-15-24-494/debug-output/training_job_end.ts'},\n",
       "   {'Key': 'data-plagiarism/sagemaker-pytorch-2020-02-04-10-36-25-786/debug-output/training_job_end.ts'},\n",
       "   {'Key': 'data-plagiarism/sagemaker-pytorch-2020-02-04-11-31-29-745/output/model.tar.gz'},\n",
       "   {'Key': 'data-plagiarism/sagemaker-pytorch-2020-02-04-12-45-55-267/output/model.tar.gz'},\n",
       "   {'Key': 'data-plagiarism/sagemaker-pytorch-2020-02-04-11-22-32-658/output/model.tar.gz'},\n",
       "   {'Key': 'data-plagiarism/sagemaker-pytorch-2020-02-03-14-32-38-959/debug-output/training_job_end.ts'},\n",
       "   {'Key': 'sagemaker-pytorch-2020-02-04-11-31-29-745/source/sourcedir.tar.gz'}]}]"
      ]
     },
     "execution_count": 52,
     "metadata": {},
     "output_type": "execute_result"
    }
   ],
   "source": [
    "# deleting bucket, uncomment lines below\n",
    "\n",
    "bucket_to_delete = boto3.resource('s3').Bucket(bucket)\n",
    "bucket_to_delete.objects.all().delete()"
   ]
  },
  {
   "cell_type": "markdown",
   "metadata": {},
   "source": [
    "### Deleting all your models and instances\n",
    "\n",
    "When you are _completely_ done with this project and do **not** ever want to revisit this notebook, you can choose to delete all of your SageMaker notebook instances and models by following [these instructions](https://docs.aws.amazon.com/sagemaker/latest/dg/ex1-cleanup.html). Before you delete this notebook instance, I recommend at least downloading a copy and saving it, locally."
   ]
  },
  {
   "cell_type": "markdown",
   "metadata": {},
   "source": [
    "---\n",
    "## Further Directions\n",
    "\n",
    "There are many ways to improve or add on to this project to expand your learning or make this more of a unique project for you. A few ideas are listed below:\n",
    "* Train a classifier to predict the *category* (1-3) of plagiarism and not just plagiarized (1) or not (0).\n",
    "* Utilize a different and larger dataset to see if this model can be extended to other types of plagiarism.\n",
    "* Use language or character-level analysis to find different (and more) similarity features.\n",
    "* Write a complete pipeline function that accepts a source text and submitted text file, and classifies the submitted text as plagiarized or not.\n",
    "* Use API Gateway and a lambda function to deploy your model to a web application.\n",
    "\n",
    "These are all just options for extending your work. If you've completed all the exercises in this notebook, you've completed a real-world application, and can proceed to submit your project. Great job!"
   ]
  }
 ],
 "metadata": {
  "kernelspec": {
   "display_name": "conda_pytorch_p36",
   "language": "python",
   "name": "conda_pytorch_p36"
  },
  "language_info": {
   "codemirror_mode": {
    "name": "ipython",
    "version": 3
   },
   "file_extension": ".py",
   "mimetype": "text/x-python",
   "name": "python",
   "nbconvert_exporter": "python",
   "pygments_lexer": "ipython3",
   "version": "3.6.5"
  }
 },
 "nbformat": 4,
 "nbformat_minor": 2
}
